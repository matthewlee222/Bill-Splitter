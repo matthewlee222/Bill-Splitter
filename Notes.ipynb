{
 "cells": [
  {
   "cell_type": "code",
   "execution_count": 1,
   "id": "3d58634f-2437-4f17-8a30-f4a17ff2f71a",
   "metadata": {},
   "outputs": [],
   "source": [
    "def bill_splitter(items, tax, tip):\n",
    "    #items: dictionary {name:item price}\n",
    "    #tip: int\n",
    "    #tax: int\n",
    "    \n",
    "    total_before_tip_and_tax = sum(list(items.values()))\n",
    "    total_cost_check = 0\n",
    "    for name in items:\n",
    "        before_tip_and_tax = items[name]\n",
    "        person_owes = before_tip_and_tax + ((before_tip_and_tax/total_before_tip_and_tax)*(tax+tip))\n",
    "        print(str(name)+' owes '+str(person_owes))\n",
    "        total_cost_check += person_owes\n",
    "    print('Total Cost is '+ str(total_cost_check))"
   ]
  },
  {
   "cell_type": "code",
   "execution_count": 2,
   "id": "f9ca4d50-a4a9-4885-a2f2-53c7a9addca5",
   "metadata": {},
   "outputs": [
    {
     "name": "stdout",
     "output_type": "stream",
     "text": [
      "Matthew owes 30.450309278350517\n",
      "Amy owes 50.75051546391752\n",
      "Michelle owes 55.82556701030928\n",
      "Bryan owes 72.31948453608247\n",
      "Shaantam owes 11.418865979381444\n",
      "Niky owes 25.37525773195876\n",
      "Total Cost is 246.14\n"
     ]
    }
   ],
   "source": [
    "bill_splitter({'Matthew':24, 'Amy':20+20, 'Michelle': 20+24, 'Bryan': 33+24, 'Shaantam': 9, 'Niky': 20}, 17.22, 34.92)"
   ]
  },
  {
   "cell_type": "code",
   "execution_count": null,
   "id": "217b6a9b-e571-43e2-8010-22a44c234ece",
   "metadata": {},
   "outputs": [],
   "source": []
  }
 ],
 "metadata": {
  "kernelspec": {
   "display_name": "Python 3 (ipykernel)",
   "language": "python",
   "name": "python3"
  },
  "language_info": {
   "codemirror_mode": {
    "name": "ipython",
    "version": 3
   },
   "file_extension": ".py",
   "mimetype": "text/x-python",
   "name": "python",
   "nbconvert_exporter": "python",
   "pygments_lexer": "ipython3",
   "version": "3.7.3"
  }
 },
 "nbformat": 4,
 "nbformat_minor": 5
}
